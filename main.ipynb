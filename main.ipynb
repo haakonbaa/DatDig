{
 "cells": [
  {
   "cell_type": "markdown",
   "metadata": {},
   "source": [
    "## DatDig Automatisering\n",
    "\n",
    "### Table of contents:\n",
    "- ### [Vår 2020](#vår2020)\n",
    "- ### [Høst 2019](#høst2019)\n",
    "- ### [Vår 2019](#vår2019)\n",
    "- ### [Høst 2018](#høst2018)\n",
    "- ### [Vår 2018](#vår2019)\n"
   ]
  },
  {
   "cell_type": "code",
   "execution_count": 3,
   "metadata": {},
   "outputs": [],
   "source": [
    "from datdig import *"
   ]
  },
  {
   "cell_type": "markdown",
   "metadata": {},
   "source": [
    "<a id='vår2020'></a>"
   ]
  },
  {
   "cell_type": "markdown",
   "metadata": {},
   "source": [
    "## Eksamen Vår 2020\n",
    "### Oppgave 3a)"
   ]
  },
  {
   "cell_type": "code",
   "execution_count": 4,
   "metadata": {},
   "outputs": [
    {
     "name": "stdout",
     "output_type": "stream",
     "text": [
      "0000FFFE: LOAD, R8, R0                   R8 = 0x00000001\n",
      "0000FFFF: INC, R0, R0                    R0 = 0xFFFF0000 + 1 = 0xFFFF0001 | z = False\n",
      "00010000: LOAD, R9, R0                   R9 = 0x00000002\n",
      "00010001: INC, R0, R0                    R0 = 0xFFFF0001 + 1 = 0xFFFF0002 | z = False\n",
      "00010002: LOAD, R10, R0                  R10 = 0x00000003\n",
      "00010003: INC, R0, R0                    R0 = 0xFFFF0002 + 1 = 0xFFFF0003 | z = False\n",
      "00010004: LOAD, R11, R0                  R11 = 0x00000004\n",
      "00010005: MUL, R8, R8, R9                R8 = 0x00000001 * 0x00000002 = 0x00000002 | z = False\n",
      "00010006: MUL, R9, R9, R10               R9 = 0x00000002 * 0x00000003 = 0x00000006 | z = False\n",
      "00010007: MUL, R10, R10, R11             R10 = 0x00000003 * 0x00000004 = 0x0000000C | z = False\n",
      "00010008: ADD, R8, R8, R9                R8 = 0x00000002 + 0x00000006 = 0x00000008 | z = False\n",
      "00010009: ADD, R8, R8, R10               R8 = 0x00000008 + 0x0000000C = 0x00000014 | z = False\n"
     ]
    }
   ],
   "source": [
    "data = {0xFFFF0000:0x00000001,\n",
    "    0xFFFF0001:0x00000002,\n",
    "    0xFFFF0002:0x00000003,\n",
    "    0xFFFF0003:0x00000004,\n",
    "    0xFFFF0004:0xFFFF0005}\n",
    "\n",
    "registers = {'R0':0xFFFF0000, \n",
    "    'R1':0xFFFF0001, \n",
    "    'R3':0xFFFF0002, \n",
    "    'R4':0xFFFF0003, \n",
    "    'R5':0x00000004}\n",
    "    \n",
    "code = r'''\n",
    "0x0000FFFE: LOAD R8, R0; \n",
    "0x0000FFFF: INC R0, R0; \n",
    "0x00010000: LOAD R9, R0; \n",
    "0x00010001: INC R0, R0; \n",
    "0x00010002: LOAD R10, R0; \n",
    "0x00010003: INC R0, R0; \n",
    "0x00010004: LOAD R11, R0; \n",
    "0x00010005: MUL R8, R8, R9; \n",
    "0x00010006: MUL R9, R9, R10; \n",
    "0x00010007: MUL R10, R10, R11; \n",
    "0x00010008: ADD R8, R8, R9; \n",
    "0x00010009: ADD R8, R8, R10;'''\n",
    "\n",
    "emulator = Asm()\n",
    "emulator.set_memory(data)\n",
    "emulator.set_instrucs(code,inc_loc=True)\n",
    "emulator.set_registers(registers)\n",
    "emulator(PC=0x0000FFFE,out = True)"
   ]
  },
  {
   "cell_type": "markdown",
   "metadata": {},
   "source": [
    "### Oppgave 3b)"
   ]
  },
  {
   "cell_type": "code",
   "execution_count": 5,
   "metadata": {},
   "outputs": [
    {
     "name": "stdout",
     "output_type": "stream",
     "text": [
      "0000FFFE: LOAD, R8, R0                   R8 = 0x00000001\n",
      "0000FFFF: LOAD, R9, R1                   R9 = 0x00000002\n",
      "00010000: LOAD, R10, R3                  R10 = 0x00000003\n",
      "00010001: LOAD, R11, R4                  R11 = 0x00000004\n",
      "00010002: MUL, R8, R8, R9                R8 = 0x00000001 * 0x00000002 = 0x00000002 | z = False\n",
      "00010003: MUL, R9, R9, R10               R9 = 0x00000002 * 0x00000003 = 0x00000006 | z = False\n",
      "00010004: MUL, R10, R10, R11             R10 = 0x00000003 * 0x00000004 = 0x0000000C | z = False\n",
      "00010005: ADD, R8, R8, R9                R8 = 0x00000002 + 0x00000006 = 0x00000008 | z = False\n",
      "00010006: ADD, R8, R8, R10               R8 = 0x00000008 + 0x0000000C = 0x00000014 | z = False\n"
     ]
    }
   ],
   "source": [
    "data = {0xFFFF0000:0x00000001,\n",
    "    0xFFFF0001:0x00000002,\n",
    "    0xFFFF0002:0x00000003,\n",
    "    0xFFFF0003:0x00000004,\n",
    "    0xFFFF0004:0xFFFF0005}\n",
    "\n",
    "registers = {'R0':0xFFFF0000, \n",
    "    'R1':0xFFFF0001, \n",
    "    'R3':0xFFFF0002, \n",
    "    'R4':0xFFFF0003, \n",
    "    'R5':0x00000004}\n",
    "    \n",
    "code = r'''\n",
    "0x0000FFFE: LOAD R8, R0; \n",
    "0x0000FFFF: LOAD R9, R1; \n",
    "0x00010000: LOAD R10, R3; \n",
    "0x00010001: LOAD R11, R4; \n",
    "0x00010002: MUL R8, R8, R9; \n",
    "0x00010003: MUL R9, R9, R10; \n",
    "0x00010004: MUL R10, R10, R11; \n",
    "0x00010005: ADD R8, R8, R9; \n",
    "0x00010006: ADD R8, R8, R10 '''\n",
    "\n",
    "emulator = Asm()\n",
    "emulator.set_memory(data)\n",
    "emulator.set_instrucs(code,inc_loc=True)\n",
    "emulator.set_registers(registers)\n",
    "emulator(PC=0x0000FFFE,out = True)"
   ]
  },
  {
   "cell_type": "markdown",
   "metadata": {},
   "source": [
    "<a id='høst2019'></a>"
   ]
  },
  {
   "cell_type": "markdown",
   "metadata": {},
   "source": [
    "## Eksamen Høst 2019\n",
    "### Oppgave 4e)"
   ]
  },
  {
   "cell_type": "code",
   "execution_count": 6,
   "metadata": {},
   "outputs": [
    {
     "name": "stdout",
     "output_type": "stream",
     "text": [
      "00000000: MOV, R0, 0x00000011            R0 = 0x00000011\n",
      "00000001: LDR, R3, R0                    R3 = 0x00000010\n",
      "00000002: MOV, R2, R3                    R2 = 0x00000010\n",
      "00000003: ADD, R3, R2, R3                R3 = 0x00000010 + 0x00000010 = 0x00000020 | z = False\n",
      "00000004: STR, R3, R0                    0x00000011 -> 0x00000020\n",
      "00000005: MOV, R1, 0x00000012            R1 = 0x00000012\n",
      "00000006: LDR, R2, R1                    R2 = 0x00000003\n",
      "00000007: SUB, R2, 0x00000001            R2 -= 0x00000001 = 0x00000002 | z = False\n",
      "00000008: STR, R2, R1                    0x00000012 -> 0x00000002\n",
      "00000009: CMP, R2, 0x00000000            0x00000002 ?= 0x00000000 | z = False\n",
      "0000000A: BNEQPC, 0x-0000009             PC = 0x00000001\n",
      "00000001: LDR, R3, R0                    R3 = 0x00000020\n",
      "00000002: MOV, R2, R3                    R2 = 0x00000020\n",
      "00000003: ADD, R3, R2, R3                R3 = 0x00000020 + 0x00000020 = 0x00000040 | z = False\n",
      "00000004: STR, R3, R0                    0x00000011 -> 0x00000040\n",
      "00000005: MOV, R1, 0x00000012            R1 = 0x00000012\n",
      "00000006: LDR, R2, R1                    R2 = 0x00000002\n",
      "00000007: SUB, R2, 0x00000001            R2 -= 0x00000001 = 0x00000001 | z = False\n",
      "00000008: STR, R2, R1                    0x00000012 -> 0x00000001\n",
      "00000009: CMP, R2, 0x00000000            0x00000001 ?= 0x00000000 | z = False\n",
      "0000000A: BNEQPC, 0x-0000009             PC = 0x00000001\n",
      "00000001: LDR, R3, R0                    R3 = 0x00000040\n",
      "00000002: MOV, R2, R3                    R2 = 0x00000040\n",
      "00000003: ADD, R3, R2, R3                R3 = 0x00000040 + 0x00000040 = 0x00000080 | z = False\n",
      "00000004: STR, R3, R0                    0x00000011 -> 0x00000080\n",
      "00000005: MOV, R1, 0x00000012            R1 = 0x00000012\n",
      "00000006: LDR, R2, R1                    R2 = 0x00000001\n",
      "00000007: SUB, R2, 0x00000001            R2 -= 0x00000001 = 0x00000000 | z = True\n",
      "00000008: STR, R2, R1                    0x00000012 -> 0x00000000\n",
      "00000009: CMP, R2, 0x00000000            0x00000000 ?= 0x00000000 | z = True\n",
      "0000000A: BNEQPC, 0x-0000009             PC = 0x0000000B\n"
     ]
    }
   ],
   "source": [
    "code = r'''\n",
    "MOV R0, #0x0011\n",
    "LDR R3, R0\n",
    "MOV R2, R3\n",
    "ADD R3, R2, R3\n",
    "STR R3, R0\n",
    "MOV R1, #0x0012\n",
    "LDR R2, R1\n",
    "SUB R2, #1\n",
    "STR R2, R1\n",
    "CMP R2, #0\n",
    "BNEQPC -9'''\n",
    "\n",
    "emulator = Asm()\n",
    "emulator.set_memory({0x10:13,0x11:0x10,0x12:3})\n",
    "emulator.set_instrucs(code)\n",
    "emulator(out = True)"
   ]
  },
  {
   "cell_type": "markdown",
   "metadata": {},
   "source": [
    "<a id='vår2019'></a>"
   ]
  },
  {
   "cell_type": "markdown",
   "metadata": {},
   "source": [
    "## Vår 2019\n",
    "### Oppgave 4d)"
   ]
  },
  {
   "cell_type": "code",
   "execution_count": 7,
   "metadata": {},
   "outputs": [
    {
     "name": "stdout",
     "output_type": "stream",
     "text": [
      "0000FFFE: LOAD, R8, R0                   R8 = 0x00000001\n",
      "0000FFFF: LOAD, R9, R1                   R9 = 0x00000002\n",
      "00010000: LOAD, R10, R3                  R10 = 0x00000003\n",
      "00010001: LOAD, R11, R4                  R11 = 0x00000004\n",
      "00010002: MUL, R8, R8, R9                R8 = 0x00000001 * 0x00000002 = 0x00000002 | z = False\n",
      "00010003: MUL, R9, R9, R10               R9 = 0x00000002 * 0x00000003 = 0x00000006 | z = False\n",
      "00010004: MUL, R10, R10, R11             R10 = 0x00000003 * 0x00000004 = 0x0000000C | z = False\n",
      "00010005: ADD, R8, R8, R9                R8 = 0x00000002 + 0x00000006 = 0x00000008 | z = False\n",
      "00010006: ADD, R8, R8, R10               R8 = 0x00000008 + 0x0000000C = 0x00000014 | z = False\n"
     ]
    }
   ],
   "source": [
    "data = {0xFFFF0000:0x00000001,\n",
    "    0xFFFF0001:0x00000002,\n",
    "    0xFFFF0002:0x00000003,\n",
    "    0xFFFF0003:0x00000004,\n",
    "    0xFFFF0004:0xFFFF0005}\n",
    "\n",
    "registers = {'R0':0xFFFF0000, \n",
    "    'R1':0xFFFF0001, \n",
    "    'R3':0xFFFF0002, \n",
    "    'R4':0xFFFF0003, \n",
    "    'R5':0x00000004}\n",
    "    \n",
    "code = r'''\n",
    "0x0000FFFE: LOAD R8, R0; \n",
    "0x0000FFFF: LOAD R9, R1; \n",
    "0x00010000: LOAD R10, R3; \n",
    "0x00010001: LOAD R11, R4; \n",
    "0x00010002: MUL R8, R8, R9; \n",
    "0x00010003: MUL R9, R9, R10; \n",
    "0x00010004: MUL R10, R10, R11; \n",
    "0x00010005: ADD R8, R8, R9; \n",
    "0x00010006: ADD R8, R8, R10 '''\n",
    "\n",
    "emulator = Asm()\n",
    "emulator.set_memory(data)\n",
    "emulator.set_instrucs(code,inc_loc=True)\n",
    "emulator.set_registers(registers)\n",
    "emulator(PC=0x0000FFFE,out = True)"
   ]
  },
  {
   "cell_type": "markdown",
   "metadata": {},
   "source": [
    "<a id='høst2018'></a>"
   ]
  },
  {
   "cell_type": "markdown",
   "metadata": {},
   "source": [
    "## Høst 2018\n",
    "### Oppgave 4c)"
   ]
  },
  {
   "cell_type": "code",
   "execution_count": 8,
   "metadata": {},
   "outputs": [
    {
     "name": "stdout",
     "output_type": "stream",
     "text": [
      "0000FFFE: LOAD, R8, R0                   R8 = 0x00000001\n",
      "0000FFFF: LOAD, R9, R1                   R9 = 0x00000002\n",
      "00010000: LOAD, R10, R3                  R10 = 0x00000003\n",
      "00010001: LOAD, R11, R4                  R11 = 0x00000004\n",
      "00010002: MUL, R8, R8, R9                R8 = 0x00000001 * 0x00000002 = 0x00000002 | z = False\n",
      "00010003: MUL, R9, R9, R10               R9 = 0x00000002 * 0x00000003 = 0x00000006 | z = False\n",
      "00010004: MUL, R10, R10, R11             R10 = 0x00000003 * 0x00000004 = 0x0000000C | z = False\n",
      "00010005: ADD, R8, R8, R9                R8 = 0x00000002 + 0x00000006 = 0x00000008 | z = False\n",
      "00010006: ADD, R8, R8, R10               R8 = 0x00000008 + 0x0000000C = 0x00000014 | z = False\n"
     ]
    }
   ],
   "source": [
    "data = {0xFFFF0000:0x00000001,\n",
    "    0xFFFF0001:0x00000002,\n",
    "    0xFFFF0002:0x00000003,\n",
    "    0xFFFF0003:0x00000004,\n",
    "    0xFFFF0004:0xFFFF0005}\n",
    "\n",
    "registers = {'R0':0xFFFF0000, \n",
    "    'R1':0xFFFF0001, \n",
    "    'R3':0xFFFF0002, \n",
    "    'R4':0xFFFF0003, \n",
    "    'R5':0x00000004}\n",
    "    \n",
    "code = r'''\n",
    "0x0000FFFE: LOAD R8, R0; \n",
    "0x0000FFFF: LOAD R9, R1; \n",
    "0x00010000: LOAD R10, R3; \n",
    "0x00010001: LOAD R11, R4; \n",
    "0x00010002: MUL R8, R8, R9; \n",
    "0x00010003: MUL R9, R9, R10; \n",
    "0x00010004: MUL R10, R10, R11; \n",
    "0x00010005: ADD R8, R8, R9; \n",
    "0x00010006: ADD R8, R8, R10 '''\n",
    "\n",
    "emulator = Asm()\n",
    "emulator.set_memory(data)\n",
    "emulator.set_instrucs(code,inc_loc=True)\n",
    "emulator.set_registers(registers)\n",
    "emulator(PC=0x0000FFFE,out = True)"
   ]
  },
  {
   "cell_type": "markdown",
   "metadata": {},
   "source": [
    "<a id='vår2018'></a>"
   ]
  },
  {
   "cell_type": "markdown",
   "metadata": {},
   "source": [
    "## Eksamen Vår 2018\n",
    "### Oppgave 4c)"
   ]
  },
  {
   "cell_type": "code",
   "execution_count": 9,
   "metadata": {},
   "outputs": [
    {
     "name": "stdout",
     "output_type": "stream",
     "text": [
      "0000FFFE: MOVC, R31, 0x00000000          R31 = 0x00000000\n",
      "0000FFFF: LOAD, R7, R8                   R7 = 0x00000005\n",
      "00010000: INV, R7, R7                    R7 = ~00000005 = 0xFFFFFFFA | z = False\n",
      "00010001: STORE, R7, R8                  0xFFFF0005 -> 0xFFFFFFFA\n",
      "00010002: INC, R8, R8                    R8 = 0xFFFF0005 + 1 = 0xFFFF0006 | z = False\n",
      "00010003: INC, R31, R31                  R31 = 0x00000000 + 1 = 0x00000001 | z = False\n",
      "00010004: CMP, R10, R31                  0x00000004 ?= 0x00000001 | z = False\n",
      "00010005: BNZ, R0                        PC = 0x0000FFFF\n",
      "0000FFFF: LOAD, R7, R8                   R7 = 0x00000006\n",
      "00010000: INV, R7, R7                    R7 = ~00000006 = 0xFFFFFFF9 | z = False\n",
      "00010001: STORE, R7, R8                  0xFFFF0006 -> 0xFFFFFFF9\n",
      "00010002: INC, R8, R8                    R8 = 0xFFFF0006 + 1 = 0xFFFF0007 | z = False\n",
      "00010003: INC, R31, R31                  R31 = 0x00000001 + 1 = 0x00000002 | z = False\n",
      "00010004: CMP, R10, R31                  0x00000004 ?= 0x00000002 | z = False\n",
      "00010005: BNZ, R0                        PC = 0x0000FFFF\n",
      "0000FFFF: LOAD, R7, R8                   R7 = 0x00000007\n",
      "00010000: INV, R7, R7                    R7 = ~00000007 = 0xFFFFFFF8 | z = False\n",
      "00010001: STORE, R7, R8                  0xFFFF0007 -> 0xFFFFFFF8\n",
      "00010002: INC, R8, R8                    R8 = 0xFFFF0007 + 1 = 0xFFFF0008 | z = False\n",
      "00010003: INC, R31, R31                  R31 = 0x00000002 + 1 = 0x00000003 | z = False\n",
      "00010004: CMP, R10, R31                  0x00000004 ?= 0x00000003 | z = False\n",
      "00010005: BNZ, R0                        PC = 0x0000FFFF\n",
      "0000FFFF: LOAD, R7, R8                   R7 = 0x00000008\n",
      "00010000: INV, R7, R7                    R7 = ~00000008 = 0xFFFFFFF7 | z = False\n",
      "00010001: STORE, R7, R8                  0xFFFF0008 -> 0xFFFFFFF7\n",
      "00010002: INC, R8, R8                    R8 = 0xFFFF0008 + 1 = 0xFFFF0009 | z = False\n",
      "00010003: INC, R31, R31                  R31 = 0x00000003 + 1 = 0x00000004 | z = False\n",
      "00010004: CMP, R10, R31                  0x00000004 ?= 0x00000004 | z = True\n",
      "00010005: BNZ, R0                        PC = 0x00010006\n"
     ]
    }
   ],
   "source": [
    "data = {\n",
    "    0xFFFF0000: 0x00000001,\n",
    "    0xFFFF0001: 0x00000002,\n",
    "    0xFFFF0002: 0x00000003,\n",
    "    0xFFFF0003: 0x00000004,\n",
    "    0xFFFF0004: 0xFFFF0005,\n",
    "    0xFFFF0005: 0x00000005,\n",
    "    0xFFFF0006: 0x00000006,\n",
    "    0xFFFF0007: 0x00000007,\n",
    "    0xFFFF0008: 0x00000008,\n",
    "    0xFFFF0009: 0x00000009}\n",
    "\n",
    "registers = {\n",
    "    'R0' :0x0000FFFF, \n",
    "    'R8' :0xFFFF0005, \n",
    "    'R10':0x00000004, \n",
    "    'R31':0x00000005}\n",
    "    \n",
    "code = r'''\n",
    "0x0000FFFE: MOVC R31, 0x0000   \n",
    "0x0000FFFF: LOAD R7, R8;    \n",
    "0x00010000: INV R7, R7;      \n",
    "0x00010001: STORE R7, R8;     \n",
    "0x00010002: INC R8, R8   \n",
    "0x00010003: INC R31, R31;   \n",
    "0x00010004: CMP R10, R31   \n",
    "0x00010005: BNZ R0;'''\n",
    "\n",
    "emulator = Asm()\n",
    "emulator.set_memory(data)\n",
    "emulator.set_instrucs(code,inc_loc=True)\n",
    "emulator.set_registers(registers)\n",
    "emulator(PC=0x0000FFFE,out = True)\n",
    "\n",
    "# b)\n",
    "emulator.set_memory({0xFFFFFF00:0xAAAAAAAA})\n",
    "#emulator(PC=0x0000FFFE,out = True) # Runs forever"
   ]
  }
 ],
 "metadata": {
  "kernelspec": {
   "display_name": "Python 3 (ipykernel)",
   "language": "python",
   "name": "python3"
  },
  "language_info": {
   "codemirror_mode": {
    "name": "ipython",
    "version": 3
   },
   "file_extension": ".py",
   "mimetype": "text/x-python",
   "name": "python",
   "nbconvert_exporter": "python",
   "pygments_lexer": "ipython3",
   "version": "3.10.0"
  }
 },
 "nbformat": 4,
 "nbformat_minor": 2
}
